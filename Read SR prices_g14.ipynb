{
 "cells": [
  {
   "cell_type": "code",
   "execution_count": 1,
   "id": "0e2ec803",
   "metadata": {},
   "outputs": [],
   "source": [
    "import os\n",
    "import sys\n",
    "import pandas as pd\n",
    "import numpy as np\n",
    "import pycdlib # this library allows to access .iso files (Disc Image Files)"
   ]
  },
  {
   "cell_type": "code",
   "execution_count": 2,
   "id": "0658ddc2",
   "metadata": {},
   "outputs": [],
   "source": [
    "ruta = os.getcwd()"
   ]
  },
  {
   "cell_type": "code",
   "execution_count": 3,
   "id": "338c4340",
   "metadata": {},
   "outputs": [],
   "source": [
    "primaria_list = list()\n",
    "\n",
    "for root, dirs, files in os.walk(ruta):\n",
    "    for file in files:\n",
    "        if '.iso' in file:\n",
    "            # print(os.path.join(root, file))\n",
    "\n",
    "            iso = pycdlib.PyCdlib()\n",
    "            iso.open(os.path.join(root, file)) # Renders an absolute path to .iso file\n",
    "            \n",
    "            iso.get_file_from_iso('C:\\\\Users\\\\Rubén Martínez\\\\primaria_g14.csv', iso_path='/CSV/RESERVA_PRIMARIA.CSV;1')\n",
    "            # creates a temporary copy of the content of the \"RESERVA_PRIMARIA.CSV\" file into the 'primaria_g14.csv' file\n",
    "            \n",
    "            primaria_list.append(pd.read_csv('C:\\\\Users\\\\Rubén Martínez\\\\primaria_g14.csv'))\n",
    "            # appends the content of 'primaria_g14.csv' file into a list before it gets replaced by a new iteration of the loop\n",
    "\n",
    "            iso.close()\n",
    "            \n",
    "primaria = pd.concat(primaria_list)"
   ]
  },
  {
   "cell_type": "code",
   "execution_count": 4,
   "id": "da4b8e8b",
   "metadata": {},
   "outputs": [],
   "source": [
    "secundaria_list = list()\n",
    "\n",
    "for root, dirs, files in os.walk(ruta):\n",
    "    for file in files:\n",
    "        if '.iso' in file:\n",
    "            # print(os.path.join(root, file))\n",
    "\n",
    "            iso = pycdlib.PyCdlib()\n",
    "            iso.open(os.path.join(root, file)) # Renders an absolute path to .iso file\n",
    "            \n",
    "            iso.get_file_from_iso('C:\\\\Users\\\\Rubén Martínez\\\\secundaria_g14.csv', iso_path='/CSV/RESERVA_SECUNDARIA.CSV;1')\n",
    "            # creates a temporary copy of the content of the \"RESERVA_SECUNDARIA.CSV\" file into the 'secundaria_g14.csv' file\n",
    "            \n",
    "            secundaria_list.append(pd.read_csv('C:\\\\Users\\\\Rubén Martínez\\\\secundaria_g14.csv'))\n",
    "            # appends the content of 'secundaria_g14.csv' file into a list before it gets replaced by a new iteration of the loop\n",
    "\n",
    "            iso.close()\n",
    "            \n",
    "secundaria = pd.concat(secundaria_list)"
   ]
  },
  {
   "cell_type": "code",
   "execution_count": 5,
   "id": "10a12daf",
   "metadata": {},
   "outputs": [],
   "source": [
    "primaria[' FECHA'] = primaria[' FECHA'].str.lstrip()\n",
    "secundaria[' FECHA'] = secundaria[' FECHA'].str.lstrip()"
   ]
  },
  {
   "cell_type": "code",
   "execution_count": 6,
   "id": "c63b3138",
   "metadata": {},
   "outputs": [],
   "source": [
    "primaria.dropna(how='all', inplace=True)\n",
    "secundaria.dropna(how='all', inplace=True)"
   ]
  },
  {
   "cell_type": "code",
   "execution_count": 7,
   "id": "fd985ed6",
   "metadata": {},
   "outputs": [],
   "source": [
    "primaria['DIA'] = primaria[' FECHA'].apply(lambda x: x.split()[0].split('/')[0])\n",
    "primaria['MES'] = primaria[' FECHA'].apply(lambda x: x.split()[0].split('/')[1])\n",
    "primaria['ANYO'] = primaria[' FECHA'].apply(lambda x: x.split()[0].split('/')[2])\n",
    "\n",
    "primaria['FECHA_'] = pd.to_datetime(primaria['ANYO'] + '-' + primaria['MES'] + '-' + primaria['DIA'])\n",
    "primaria[' HORA'] = primaria[' HORA'].apply(lambda x: int(x))\n",
    "\n",
    "primaria['FECHA_HORA'] = pd.to_datetime(primaria['FECHA_']) + pd.to_timedelta(primaria[' HORA'], unit='h')\n",
    "\n",
    "del primaria[' FECHA']\n",
    "del primaria[' HORA']\n",
    "del primaria['FECHA_']\n",
    "del primaria['DIA']\n",
    "del primaria['MES']\n",
    "del primaria['ANYO']"
   ]
  },
  {
   "cell_type": "code",
   "execution_count": 8,
   "id": "cccab74c",
   "metadata": {},
   "outputs": [],
   "source": [
    "secundaria['DIA'] = secundaria[' FECHA'].apply(lambda x: x.split()[0].split('/')[0])\n",
    "secundaria['MES'] = secundaria[' FECHA'].apply(lambda x: x.split()[0].split('/')[1])\n",
    "secundaria['ANYO'] = secundaria[' FECHA'].apply(lambda x: x.split()[0].split('/')[2])\n",
    "\n",
    "secundaria['FECHA_'] = pd.to_datetime(secundaria['ANYO'] + '-' + secundaria['MES'] + '-' + secundaria['DIA'])\n",
    "secundaria[' HORA'] = secundaria[' HORA'].apply(lambda x: int(x))\n",
    "\n",
    "secundaria['FECHA_HORA'] = pd.to_datetime(secundaria['FECHA_']) + pd.to_timedelta(secundaria[' HORA'], unit='h')\n",
    "\n",
    "del secundaria[' FECHA']\n",
    "del secundaria[' HORA']\n",
    "del secundaria['FECHA_']\n",
    "del secundaria['DIA']\n",
    "del secundaria['MES']\n",
    "del secundaria['ANYO']"
   ]
  },
  {
   "cell_type": "code",
   "execution_count": 9,
   "id": "1bdf8ebf",
   "metadata": {},
   "outputs": [],
   "source": [
    "primaria.set_index('FECHA_HORA', inplace=True)\n",
    "secundaria.set_index('FECHA_HORA', inplace=True)"
   ]
  },
  {
   "cell_type": "code",
   "execution_count": 10,
   "id": "a151528d",
   "metadata": {},
   "outputs": [],
   "source": [
    "primaria[' FACTURA_RES_PRI'] = pd.to_numeric(primaria[' FACTURA_RES_PRI'], errors='coerce')\n",
    "secundaria[' FAC_TOTAL'] = pd.to_numeric(secundaria[' FAC_TOTAL'], errors='coerce')"
   ]
  },
  {
   "cell_type": "code",
   "execution_count": 11,
   "id": "987d21ee",
   "metadata": {},
   "outputs": [],
   "source": [
    "writer = pd.ExcelWriter('spinning_reserve_g14.xlsx', engine='xlsxwriter')\n",
    "\n",
    "primaria.resample('D').sum().to_excel(writer, sheet_name='primaria_g14')\n",
    "secundaria.resample('D').sum().to_excel(writer, sheet_name='secundaria_g14')\n",
    "\n",
    "writer.save()"
   ]
  }
 ],
 "metadata": {
  "kernelspec": {
   "display_name": "Python 3 (ipykernel)",
   "language": "python",
   "name": "python3"
  },
  "language_info": {
   "codemirror_mode": {
    "name": "ipython",
    "version": 3
   },
   "file_extension": ".py",
   "mimetype": "text/x-python",
   "name": "python",
   "nbconvert_exporter": "python",
   "pygments_lexer": "ipython3",
   "version": "3.7.9"
  }
 },
 "nbformat": 4,
 "nbformat_minor": 5
}
